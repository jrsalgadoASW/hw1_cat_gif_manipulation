{
 "cells": [
  {
   "cell_type": "code",
   "execution_count": null,
   "metadata": {},
   "outputs": [],
   "source": [
    "import numpy as np\n",
    "\n",
    "# import torch\n",
    "import imageio\n",
    "\n",
    "\n",
    "def save_brightness_gif(catgif: str, darker: bool) -> None:\n",
    "    im = imageio.mimread(catgif)\n",
    "    arr_im = np.array(im)\n",
    "    name = \"darker_\" + catgif\n",
    "    mod = 0.5\n",
    "    if not darker:\n",
    "        name = \"brighter_\" + catgif\n",
    "        mod = 2\n",
    "    arr_im = arr_im * [mod, mod, mod, 1]\n",
    "    arr_im = np.rint(arr_im)\n",
    "    arr_im = np.clip(arr_im, 0, 255)\n",
    "    imageio.mimsave(name, arr_im)\n",
    "\n",
    "\n",
    "\n",
    "\n",
    "\n"
   ]
  },
  {
   "cell_type": "code",
   "execution_count": 42,
   "metadata": {},
   "outputs": [],
   "source": [
    "\n",
    "# save_brightness_gif(\"catgif.gif\", False)\n",
    "def moving_point(catgif: str):\n",
    "    #read gif\n",
    "    im = imageio.mimread(catgif)\n",
    "    arr_im = np.array(im)\n",
    "    pixel_size = 4\n",
    "    height = arr_im.shape[1] -1 - pixel_size\n",
    "    width = arr_im.shape[2]-1 - pixel_size\n",
    "    n_frames = arr_im.shape[0]\n",
    "\n",
    "    #create movement\n",
    "    speed = 2\n",
    "    lspace_height = np.arange(pixel_size, height, speed)\n",
    "    lspace_width = np.arange(pixel_size, width, speed)\n",
    "    #[5, 7, 5, 6,....]\n",
    "    # movement_height =  (np.rint((height / 2) * np.cos(lspace_height) + (height / 2))).astype(int)\n",
    "    # movement_width =  (np.rint((width / 2) * np.sin(lspace_width) + (width / 2))).astype(int)\n",
    "\n",
    "    # arr_im_copy = np.ones(arr_im.shape)\n",
    "    red_pixel = [255, 0, 0, 255]\n",
    "    for i in range(0, n_frames):\n",
    "        #center\n",
    "        arr_im[i, lspace_height[i], lspace_width[i], :] = red_pixel\n",
    "        #up\n",
    "        arr_im[i, lspace_height[i]-1, lspace_width[i], :] = red_pixel\n",
    "        #down\n",
    "        arr_im[i, lspace_height[i]+1, lspace_width[i], :] = red_pixel\n",
    "        #left\n",
    "        arr_im[i, lspace_height[i], lspace_width[i]-1, :] = red_pixel\n",
    "        #right\n",
    "        arr_im[i, lspace_height[i], lspace_width[i]+1, :] = red_pixel\n",
    "    imageio.mimsave(\"test.gif\", arr_im)\n",
    "    \n",
    "moving_point(\"catgif.gif\")"
   ]
  }
 ],
 "metadata": {
  "kernelspec": {
   "display_name": ".venv",
   "language": "python",
   "name": "python3"
  },
  "language_info": {
   "codemirror_mode": {
    "name": "ipython",
    "version": 3
   },
   "file_extension": ".py",
   "mimetype": "text/x-python",
   "name": "python",
   "nbconvert_exporter": "python",
   "pygments_lexer": "ipython3",
   "version": "3.10.6"
  },
  "orig_nbformat": 4,
  "vscode": {
   "interpreter": {
    "hash": "1970f7022f4ac314dc107f66300f5896546c21b7b85046fe49084a4d7ca6b033"
   }
  }
 },
 "nbformat": 4,
 "nbformat_minor": 2
}
