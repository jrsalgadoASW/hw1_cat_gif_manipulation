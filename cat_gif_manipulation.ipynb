{
 "cells": [
  {
   "cell_type": "code",
   "execution_count": null,
   "metadata": {},
   "outputs": [],
   "source": [
    "import numpy as np\n",
    "\n",
    "# import torch\n",
    "import imageio\n",
    "\n",
    "\n",
    "def save_brightness_gif(catgif: str, darker: bool) -> None:\n",
    "    im = imageio.mimread(catgif)\n",
    "    arr_im = np.array(im)\n",
    "    name = \"darker_\" + catgif\n",
    "    mod = 0.5\n",
    "    if not darker:\n",
    "        name = \"brighter_\" + catgif\n",
    "        mod = 2\n",
    "    arr_im = arr_im * [mod, mod, mod, 1]\n",
    "    arr_im = np.rint(arr_im)\n",
    "    arr_im = np.clip(arr_im, 0, 255)\n",
    "    imageio.mimsave(name, arr_im)\n",
    "\n",
    "\n",
    "\n",
    "\n",
    "\n"
   ]
  },
  {
   "cell_type": "code",
   "execution_count": 43,
   "metadata": {},
   "outputs": [],
   "source": [
    "\n",
    "# save_brightness_gif(\"catgif.gif\", False)\n",
    "def moving_point(catgif: str):\n",
    "    #read gif\n",
    "    im = imageio.mimread(catgif)\n",
    "    arr_im = np.array(im)\n",
    "    pixel_size = 4\n",
    "    height = arr_im.shape[1] -1 - pixel_size\n",
    "    width = arr_im.shape[2]-1 - pixel_size\n",
    "    n_frames = arr_im.shape[0]\n",
    "\n",
    "    #create movement\n",
    "    speed = 2\n",
    "    lspace_height = np.arange(pixel_size, height, speed)\n",
    "    lspace_width = np.arange(pixel_size, width, speed)\n",
    "    #[5, 7, 5, 6,....]\n",
    "    # movement_height =  (np.rint((height / 2) * np.cos(lspace_height) + (height / 2))).astype(int)\n",
    "    # movement_width =  (np.rint((width / 2) * np.sin(lspace_width) + (width / 2))).astype(int)\n",
    "\n",
    "    # arr_im_copy = np.ones(arr_im.shape)\n",
    "    red_pixel = [255, 0, 0, 255]\n",
    "    for i in range(0, n_frames):\n",
    "        #center\n",
    "        arr_im[i, lspace_height[i], lspace_width[i], :] = red_pixel\n",
    "        #up\n",
    "        arr_im[i, lspace_height[i]-1, lspace_width[i], :] = red_pixel\n",
    "        #down\n",
    "        arr_im[i, lspace_height[i]+1, lspace_width[i], :] = red_pixel\n",
    "        #left\n",
    "        arr_im[i, lspace_height[i], lspace_width[i]-1, :] = red_pixel\n",
    "        #right\n",
    "        arr_im[i, lspace_height[i], lspace_width[i]+1, :] = red_pixel\n",
    "    imageio.mimsave(\"moving_point.gif\", arr_im)\n",
    "    \n",
    "moving_point(\"catgif.gif\")"
   ]
  },
  {
   "cell_type": "code",
   "execution_count": 103,
   "metadata": {},
   "outputs": [
    {
     "name": "stdout",
     "output_type": "stream",
     "text": [
      "[ 70. 255.]\n"
     ]
    }
   ],
   "source": [
    "mini_gif = np.array(\n",
    "    [\n",
    "        [\n",
    "            [[100, 0, 0, 255], [0, 0, 0, 255]], \n",
    "            [[0, 0, 0, 255], [0, 0, 0, 255]]\n",
    "        ],\n",
    "        [\n",
    "            [[255, 255, 255, 255], [255, 255, 255, 255]],\n",
    "            [[255, 255, 255, 255], [255, 255, 255, 255]],\n",
    "        ],\n",
    "    ]\n",
    ")\n",
    "\n",
    "\n",
    "def get_frame_means(arr):\n",
    "    average_pixels = np.mean(arr, axis=3)\n",
    "    average_pixels = np.mean(average_pixels, axis=2)\n",
    "    average_pixels = np.mean(average_pixels, axis=1)\n",
    "    return average_pixels\n",
    "    # return [average_pixels.min(), average_pixels.max(), np.mean(average_pixels, axis=0)]\n",
    "\n",
    "\n",
    "means = get_frame_means(mini_gif)\n",
    "print(means)\n"
   ]
  },
  {
   "cell_type": "markdown",
   "metadata": {},
   "source": []
  },
  {
   "cell_type": "code",
   "execution_count": 117,
   "metadata": {},
   "outputs": [
    {
     "name": "stdout",
     "output_type": "stream",
     "text": [
      "[171.19202443 170.58087696 169.96572426 169.46031414 169.61491928\n",
      " 170.1785733  170.08587914 171.72481457 172.44176265 174.05643325\n",
      " 174.80193281 174.43733421 176.02020506 176.85752182 177.6087151\n",
      " 176.01536867 177.00767888 178.11231675 178.86564354 180.00457024\n",
      " 180.73931501 178.75395942 176.64143979 177.89236475 181.26278578\n",
      " 181.64415358 180.73625    179.55092059 176.67279887 175.82143761\n",
      " 178.6935733  176.98652051 172.36626745 176.76978185 173.44234729\n",
      " 171.22269197 173.087476   172.28082679 170.22870855 176.5521575\n",
      " 179.0188089  174.36931501 172.83133508 173.65572426 174.87930628\n",
      " 175.17521597 175.8645397  176.46932155 176.44325262 177.23308464\n",
      " 178.05204843]\n",
      "[ 0  1  2  3  4  5  6  7  8  9 10 11 32 34 35 36 37 38 41 42 43 44 45]\n"
     ]
    }
   ],
   "source": [
    "def detect_black_tube(catgif: str):\n",
    "    im = imageio.mimread(catgif)\n",
    "    arr_im = np.array(im)\n",
    "    frame_means = get_frame_means(arr_im)\n",
    "    average_frame = np.mean(frame_means, axis=0)\n",
    "    tube_detected_frames = np.where(frame_means<average_frame)[0]\n",
    "    print(frame_means)\n",
    "    print(tube_detected_frames)\n",
    "    imageio.mimsave(\"tube.gif\", arr_im[tube_detected_frames])\n",
    "\n",
    "\n",
    "    \n",
    "detect_black_tube(\"catgif.gif\")"
   ]
  },
  {
   "attachments": {},
   "cell_type": "markdown",
   "metadata": {},
   "source": [
    "# Conclusion"
   ]
  },
  {
   "attachments": {},
   "cell_type": "markdown",
   "metadata": {},
   "source": [
    "We thought that getting the frames with the darkest amount of pixels would mean that the tube would be the most visible. After getting the pixel mean of each frame, we realized that the darkest frames are the ones at the beginning due to the fact that the cat is in a light shadow. After that, the cat jumps and get brighter. \n",
    "\n",
    "In future work, we might try to count the dark pixels inside a threashold. "
   ]
  }
 ],
 "metadata": {
  "kernelspec": {
   "display_name": ".venv",
   "language": "python",
   "name": "python3"
  },
  "language_info": {
   "codemirror_mode": {
    "name": "ipython",
    "version": 3
   },
   "file_extension": ".py",
   "mimetype": "text/x-python",
   "name": "python",
   "nbconvert_exporter": "python",
   "pygments_lexer": "ipython3",
   "version": "3.10.6"
  },
  "orig_nbformat": 4,
  "vscode": {
   "interpreter": {
    "hash": "1970f7022f4ac314dc107f66300f5896546c21b7b85046fe49084a4d7ca6b033"
   }
  }
 },
 "nbformat": 4,
 "nbformat_minor": 2
}
